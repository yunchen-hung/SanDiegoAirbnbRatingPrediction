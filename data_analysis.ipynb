{
 "cells": [
  {
   "cell_type": "code",
   "execution_count": 1,
   "metadata": {},
   "outputs": [],
   "source": [
    "import numpy as np\n",
    "import pandas as pd"
   ]
  },
  {
   "cell_type": "markdown",
   "metadata": {},
   "source": [
    "# Cleaned Data"
   ]
  },
  {
   "cell_type": "code",
   "execution_count": 2,
   "metadata": {},
   "outputs": [],
   "source": [
    "airbnb = pd.read_csv('data/airbnb.csv', low_memory=False)"
   ]
  },
  {
   "cell_type": "code",
   "execution_count": 3,
   "metadata": {},
   "outputs": [],
   "source": [
    "relevantCols = ['amenities', 'first_review', 'host_neighbourhood', \n",
    "            'last_review', 'neighbourhood_cleansed', 'nightly_price', \n",
    "            'price_per_stay', 'property_type', 'review_scores_rating', \n",
    "            'room_type', 'number_of_reviews']\n",
    "\n",
    "airbnb = airbnb[relevantCols]"
   ]
  },
  {
   "cell_type": "code",
   "execution_count": 4,
   "metadata": {},
   "outputs": [],
   "source": [
    "airbnb.amenities = airbnb.amenities.str.slice(1,-1).str.replace('\"', '').str.split(',')"
   ]
  },
  {
   "cell_type": "code",
   "execution_count": 5,
   "metadata": {},
   "outputs": [
    {
     "name": "stderr",
     "output_type": "stream",
     "text": [
      "/var/folders/gf/251f82hj37z24mwyzsz3m4500000gn/T/ipykernel_16084/24953350.py:1: UserWarning: Could not infer format, so each element will be parsed individually, falling back to `dateutil`. To ensure parsing is consistent and as-expected, please specify a format.\n",
      "  airbnb.first_review = pd.to_datetime(airbnb.first_review.str.replace('/','-'))\n",
      "/var/folders/gf/251f82hj37z24mwyzsz3m4500000gn/T/ipykernel_16084/24953350.py:2: UserWarning: Could not infer format, so each element will be parsed individually, falling back to `dateutil`. To ensure parsing is consistent and as-expected, please specify a format.\n",
      "  airbnb.last_review = pd.to_datetime(airbnb.last_review.str.replace('/','-'))\n"
     ]
    }
   ],
   "source": [
    "airbnb.first_review = pd.to_datetime(airbnb.first_review.str.replace('/','-'))\n",
    "airbnb.last_review = pd.to_datetime(airbnb.last_review.str.replace('/','-'))"
   ]
  },
  {
   "cell_type": "code",
   "execution_count": 6,
   "metadata": {},
   "outputs": [],
   "source": [
    "airbnb.nightly_price = (airbnb.nightly_price.str.slice(1)\n",
    "                    .str.strip().str.replace(',', ''))\n",
    "airbnb.nightly_price = airbnb.nightly_price.replace('', np.NaN).astype(float)\n",
    "airbnb.price_per_stay = (airbnb.price_per_stay.str.slice(1)\n",
    "                    .str.strip().str.replace(',', ''))\n",
    "airbnb.price_per_stay = airbnb.price_per_stay.replace('', np.NaN).astype(float)"
   ]
  },
  {
   "cell_type": "code",
   "execution_count": 7,
   "metadata": {},
   "outputs": [],
   "source": [
    "# number of days of reviews since first review\n",
    "airbnb['days_of_reviews'] = (airbnb.last_review - airbnb.first_review).dt.days\n",
    "# number of amenities\n",
    "airbnb['num_amenities'] = airbnb.amenities.str.len()"
   ]
  },
  {
   "cell_type": "code",
   "execution_count": 8,
   "metadata": {},
   "outputs": [
    {
     "data": {
      "text/html": [
       "<div>\n",
       "<style scoped>\n",
       "    .dataframe tbody tr th:only-of-type {\n",
       "        vertical-align: middle;\n",
       "    }\n",
       "\n",
       "    .dataframe tbody tr th {\n",
       "        vertical-align: top;\n",
       "    }\n",
       "\n",
       "    .dataframe thead th {\n",
       "        text-align: right;\n",
       "    }\n",
       "</style>\n",
       "<table border=\"1\" class=\"dataframe\">\n",
       "  <thead>\n",
       "    <tr style=\"text-align: right;\">\n",
       "      <th></th>\n",
       "      <th>amenities</th>\n",
       "      <th>first_review</th>\n",
       "      <th>host_neighbourhood</th>\n",
       "      <th>last_review</th>\n",
       "      <th>neighbourhood_cleansed</th>\n",
       "      <th>nightly_price</th>\n",
       "      <th>price_per_stay</th>\n",
       "      <th>property_type</th>\n",
       "      <th>review_scores_rating</th>\n",
       "      <th>room_type</th>\n",
       "      <th>number_of_reviews</th>\n",
       "      <th>days_of_reviews</th>\n",
       "      <th>num_amenities</th>\n",
       "    </tr>\n",
       "  </thead>\n",
       "  <tbody>\n",
       "    <tr>\n",
       "      <th>1</th>\n",
       "      <td>[TV, Wifi, Air conditioning, Kitchen, Free par...</td>\n",
       "      <td>2017-04-22</td>\n",
       "      <td>La Jolla</td>\n",
       "      <td>2017-08-31</td>\n",
       "      <td>La Jolla</td>\n",
       "      <td>1400.0</td>\n",
       "      <td>1400.0</td>\n",
       "      <td>Apartment</td>\n",
       "      <td>100.0</td>\n",
       "      <td>Entire home/apt</td>\n",
       "      <td>2.0</td>\n",
       "      <td>131.0</td>\n",
       "      <td>21.0</td>\n",
       "    </tr>\n",
       "    <tr>\n",
       "      <th>4</th>\n",
       "      <td>[TV, Wifi, Kitchen, Free parking on premises, ...</td>\n",
       "      <td>2015-02-22</td>\n",
       "      <td>La Jolla</td>\n",
       "      <td>2018-09-23</td>\n",
       "      <td>La Jolla</td>\n",
       "      <td>110.0</td>\n",
       "      <td>110.0</td>\n",
       "      <td>Condominium</td>\n",
       "      <td>90.0</td>\n",
       "      <td>Private room</td>\n",
       "      <td>2.0</td>\n",
       "      <td>1309.0</td>\n",
       "      <td>11.0</td>\n",
       "    </tr>\n",
       "    <tr>\n",
       "      <th>10</th>\n",
       "      <td>[TV, Cable TV, Internet, Wifi, Air conditionin...</td>\n",
       "      <td>2016-10-10</td>\n",
       "      <td>Black Mountain Ranch</td>\n",
       "      <td>2017-05-27</td>\n",
       "      <td>Rancho Penasquitos</td>\n",
       "      <td>75.0</td>\n",
       "      <td>75.0</td>\n",
       "      <td>Bungalow</td>\n",
       "      <td>93.0</td>\n",
       "      <td>Entire home/apt</td>\n",
       "      <td>3.0</td>\n",
       "      <td>229.0</td>\n",
       "      <td>34.0</td>\n",
       "    </tr>\n",
       "    <tr>\n",
       "      <th>12</th>\n",
       "      <td>[TV, Internet, Wifi, Kitchen, Free parking on ...</td>\n",
       "      <td>2015-11-19</td>\n",
       "      <td>Pacific Beach</td>\n",
       "      <td>2018-07-02</td>\n",
       "      <td>Mission Bay</td>\n",
       "      <td>75.0</td>\n",
       "      <td>4500.0</td>\n",
       "      <td>House</td>\n",
       "      <td>100.0</td>\n",
       "      <td>Private room</td>\n",
       "      <td>27.0</td>\n",
       "      <td>956.0</td>\n",
       "      <td>37.0</td>\n",
       "    </tr>\n",
       "    <tr>\n",
       "      <th>13</th>\n",
       "      <td>[TV, Wifi, Pool, Kitchen, Free parking on prem...</td>\n",
       "      <td>2016-02-21</td>\n",
       "      <td>Pacific Beach</td>\n",
       "      <td>2019-05-12</td>\n",
       "      <td>Pacific Beach</td>\n",
       "      <td>65.0</td>\n",
       "      <td>3900.0</td>\n",
       "      <td>Condominium</td>\n",
       "      <td>97.0</td>\n",
       "      <td>Entire home/apt</td>\n",
       "      <td>12.0</td>\n",
       "      <td>1176.0</td>\n",
       "      <td>32.0</td>\n",
       "    </tr>\n",
       "  </tbody>\n",
       "</table>\n",
       "</div>"
      ],
      "text/plain": [
       "                                            amenities first_review  \\\n",
       "1   [TV, Wifi, Air conditioning, Kitchen, Free par...   2017-04-22   \n",
       "4   [TV, Wifi, Kitchen, Free parking on premises, ...   2015-02-22   \n",
       "10  [TV, Cable TV, Internet, Wifi, Air conditionin...   2016-10-10   \n",
       "12  [TV, Internet, Wifi, Kitchen, Free parking on ...   2015-11-19   \n",
       "13  [TV, Wifi, Pool, Kitchen, Free parking on prem...   2016-02-21   \n",
       "\n",
       "      host_neighbourhood last_review neighbourhood_cleansed  nightly_price  \\\n",
       "1               La Jolla  2017-08-31               La Jolla         1400.0   \n",
       "4               La Jolla  2018-09-23               La Jolla          110.0   \n",
       "10  Black Mountain Ranch  2017-05-27     Rancho Penasquitos           75.0   \n",
       "12         Pacific Beach  2018-07-02            Mission Bay           75.0   \n",
       "13         Pacific Beach  2019-05-12          Pacific Beach           65.0   \n",
       "\n",
       "    price_per_stay property_type  review_scores_rating        room_type  \\\n",
       "1           1400.0     Apartment                 100.0  Entire home/apt   \n",
       "4            110.0   Condominium                  90.0     Private room   \n",
       "10            75.0      Bungalow                  93.0  Entire home/apt   \n",
       "12          4500.0         House                 100.0     Private room   \n",
       "13          3900.0   Condominium                  97.0  Entire home/apt   \n",
       "\n",
       "    number_of_reviews  days_of_reviews  num_amenities  \n",
       "1                 2.0            131.0           21.0  \n",
       "4                 2.0           1309.0           11.0  \n",
       "10                3.0            229.0           34.0  \n",
       "12               27.0            956.0           37.0  \n",
       "13               12.0           1176.0           32.0  "
      ]
     },
     "execution_count": 8,
     "metadata": {},
     "output_type": "execute_result"
    }
   ],
   "source": [
    "airbnb = airbnb.dropna()\n",
    "airbnb.head()"
   ]
  },
  {
   "cell_type": "markdown",
   "metadata": {},
   "source": [
    "# T-tests, Linear Regression"
   ]
  },
  {
   "cell_type": "code",
   "execution_count": 58,
   "metadata": {},
   "outputs": [],
   "source": [
    "import scipy.stats as stats\n",
    "import matplotlib.pyplot as plt"
   ]
  },
  {
   "cell_type": "code",
   "execution_count": 59,
   "metadata": {},
   "outputs": [
    {
     "data": {
      "text/plain": [
       "property_type\n",
       "Aparthotel           96.142857\n",
       "Apartment            94.278278\n",
       "Bed and breakfast    93.764706\n",
       "Boat                 97.708333\n",
       "Boutique hotel       91.294118\n",
       "Name: review_scores_rating, dtype: float64"
      ]
     },
     "execution_count": 59,
     "metadata": {},
     "output_type": "execute_result"
    }
   ],
   "source": [
    "(airbnb.groupby('property_type')['review_scores_rating']\n",
    ".mean() \n",
    ").head()"
   ]
  },
  {
   "cell_type": "code",
   "execution_count": 60,
   "metadata": {},
   "outputs": [
    {
     "data": {
      "text/plain": [
       "property_type\n",
       "House          3251\n",
       "Apartment      2555\n",
       "Condominium    1246\n",
       "Townhouse       488\n",
       "Guesthouse      387\n",
       "Name: count, dtype: int64"
      ]
     },
     "execution_count": 60,
     "metadata": {},
     "output_type": "execute_result"
    }
   ],
   "source": [
    "(airbnb.property_type\n",
    ".value_counts()).head()\n"
   ]
  },
  {
   "cell_type": "code",
   "execution_count": 61,
   "metadata": {},
   "outputs": [
    {
     "data": {
      "text/plain": [
       "property_type\n",
       "Aparthotel           13.734694\n",
       "Apartment             0.036900\n",
       "Bed and breakfast     5.515571\n",
       "Boat                  4.071181\n",
       "Boutique hotel        5.370242\n",
       "dtype: float64"
      ]
     },
     "execution_count": 61,
     "metadata": {},
     "output_type": "execute_result"
    }
   ],
   "source": [
    "(airbnb.groupby('property_type')['review_scores_rating']\n",
    ".mean() / \n",
    "airbnb.property_type\n",
    ".value_counts()\n",
    ").head()"
   ]
  },
  {
   "cell_type": "code",
   "execution_count": 51,
   "metadata": {},
   "outputs": [
    {
     "data": {
      "image/png": "[encoded data removed]",
      "text/plain": [
       "<Figure size 640x480 with 1 Axes>"
      ]
     },
     "metadata": {},
     "output_type": "display_data"
    }
   ],
   "source": [
    "(\n",
    "(airbnb.groupby('property_type')['review_scores_rating']\n",
    ".mean() / \n",
    "airbnb.property_type\n",
    ".value_counts()\n",
    ")\n",
    ".sort_values(ascending=True)\n",
    "\n",
    ".plot.barh()\n",
    ")\n",
    "plt.xlabel('Review Rating (/100)')\n",
    "plt.show()"
   ]
  },
  {
   "cell_type": "code",
   "execution_count": null,
   "metadata": {},
   "outputs": [],
   "source": []
  },
  {
   "cell_type": "code",
   "execution_count": 76,
   "metadata": {},
   "outputs": [
    {
     "name": "stdout",
     "output_type": "stream",
     "text": [
      "Intercept                                           85.257946\n",
      "first_review[T.Timestamp('2010-07-20 00:00:00')]     0.000000\n",
      "first_review[T.Timestamp('2010-09-09 00:00:00')]     0.000000\n",
      "first_review[T.Timestamp('2010-12-05 00:00:00')]     0.000000\n",
      "first_review[T.Timestamp('2011-01-04 00:00:00')]     0.000000\n",
      "                                                      ...    \n",
      "nightly_price                                        0.001403\n",
      "price_per_stay                                       0.000613\n",
      "number_of_reviews                                    0.008015\n",
      "days_of_reviews                                      0.000550\n",
      "num_amenities                                        0.259691\n",
      "Length: 3200, dtype: float64\n"
     ]
    }
   ],
   "source": [
    "import statsmodels.formula.api as smf\n",
    "full_model_formula = f' review_scores_rating ~ {\"+\".join(airbnb.columns.drop([\"review_scores_rating\", \"amenities\"]))}'\n",
    "\n",
    "elastic_fit = smf.ols(full_model_formula, data=airbnb).\\\n",
    "                fit_regularized(method='elastic_net', alpha=1.0, L1_wt=1.0)\n",
    "\n",
    "print(elastic_fit.params)"
   ]
  },
  {
   "cell_type": "code",
   "execution_count": 75,
   "metadata": {},
   "outputs": [
    {
     "name": "stdout",
     "output_type": "stream",
     "text": [
      "Index(['nightly_price', 'price_per_stay', 'number_of_reviews',\n",
      "       'days_of_reviews', 'num_amenities'],\n",
      "      dtype='object')\n",
      "                             OLS Regression Results                             \n",
      "================================================================================\n",
      "Dep. Variable:     review_scores_rating   R-squared:                       0.020\n",
      "Model:                              OLS   Adj. R-squared:                  0.019\n",
      "Method:                   Least Squares   F-statistic:                     37.75\n",
      "Date:                  Sat, 01 Jun 2024   Prob (F-statistic):           1.80e-38\n",
      "Time:                          10:54:29   Log-Likelihood:                -31424.\n",
      "No. Observations:                  9372   AIC:                         6.286e+04\n",
      "Df Residuals:                      9366   BIC:                         6.290e+04\n",
      "Df Model:                             5                                         \n",
      "Covariance Type:              nonrobust                                         \n",
      "=====================================================================================\n",
      "                        coef    std err          t      P>|t|      [0.025      0.975]\n",
      "-------------------------------------------------------------------------------------\n",
      "Intercept            93.1169      0.203    458.759      0.000      92.719      93.515\n",
      "nightly_price        -0.0008      0.000     -2.807      0.005      -0.001      -0.000\n",
      "price_per_stay        0.0003   9.12e-05      2.982      0.003    9.31e-05       0.000\n",
      "number_of_reviews     0.0070      0.001      5.136      0.000       0.004       0.010\n",
      "days_of_reviews      -0.0004      0.000     -2.504      0.012      -0.001   -8.13e-05\n",
      "num_amenities         0.0703      0.006     11.334      0.000       0.058       0.082\n",
      "==============================================================================\n",
      "Omnibus:                     8367.400   Durbin-Watson:                   1.891\n",
      "Prob(Omnibus):                  0.000   Jarque-Bera (JB):           382472.087\n",
      "Skew:                          -4.177   Prob(JB):                         0.00\n",
      "Kurtosis:                      33.160   Cond. No.                     3.02e+03\n",
      "==============================================================================\n",
      "\n",
      "Notes:\n",
      "[1] Standard Errors assume that the covariance matrix of the errors is correctly specified.\n",
      "[2] The condition number is large, 3.02e+03. This might indicate that there are\n",
      "strong multicollinearity or other numerical problems.\n"
     ]
    }
   ],
   "source": [
    "final_params = elastic_fit.params[elastic_fit.params != 0].index[1:]\n",
    "print(final_params)\n",
    "\n",
    "print(smf.ols( f'review_scores_rating ~ {\"+\".join(final_params)}', airbnb).fit().summary())"
   ]
  },
  {
   "cell_type": "code",
   "execution_count": 77,
   "metadata": {},
   "outputs": [
    {
     "name": "stdout",
     "output_type": "stream",
     "text": [
      "reject H0: pvalue=0.0 < 0.01\n"
     ]
    }
   ],
   "source": [
    "def decision(pvalue, alpha):\n",
    "    if pvalue < alpha:\n",
    "        print(f'reject H0: pvalue={pvalue} < {alpha}')  \n",
    "    else: \n",
    "        print(f'fail to reject H0: pvalue={pvalue} ≥ {alpha}')\n",
    "alpha = 0.01\n",
    "tstat, pvalue = stats.chisquare(f_obs=airbnb['neighbourhood_cleansed'].value_counts())\n",
    "decision(pvalue, alpha)"
   ]
  },
  {
   "cell_type": "code",
   "execution_count": null,
   "metadata": {},
   "outputs": [],
   "source": []
  }
 ],
 "metadata": {
  "kernelspec": {
   "display_name": "base",
   "language": "python",
   "name": "python3"
  },
  "language_info": {
   "codemirror_mode": {
    "name": "ipython",
    "version": 3
   },
   "file_extension": ".py",
   "mimetype": "text/x-python",
   "name": "python",
   "nbconvert_exporter": "python",
   "pygments_lexer": "ipython3",
   "version": "3.11.5"
  }
 },
 "nbformat": 4,
 "nbformat_minor": 2
}
