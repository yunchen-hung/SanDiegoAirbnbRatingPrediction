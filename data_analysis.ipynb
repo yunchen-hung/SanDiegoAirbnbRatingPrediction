{
 "cells": [
  {
   "cell_type": "code",
   "execution_count": 1,
   "metadata": {},
   "outputs": [],
   "source": [
    "import numpy as np\n",
    "import pandas as pd"
   ]
  },
  {
   "cell_type": "markdown",
   "metadata": {},
   "source": [
    "# Cleaned Data"
   ]
  },
  {
   "cell_type": "code",
   "execution_count": 2,
   "metadata": {},
   "outputs": [],
   "source": [
    "airbnb = pd.read_csv('data/airbnb.csv', low_memory=False)"
   ]
  },
  {
   "cell_type": "code",
   "execution_count": 3,
   "metadata": {},
   "outputs": [],
   "source": [
    "relevantCols = ['amenities', 'first_review', 'host_neighbourhood', \n",
    "            'last_review', 'neighbourhood_cleansed', 'nightly_price', \n",
    "            'price_per_stay', 'property_type', 'review_scores_rating', \n",
    "            'room_type', 'number_of_reviews']\n",
    "\n",
    "airbnb = airbnb[relevantCols]"
   ]
  },
  {
   "cell_type": "code",
   "execution_count": 4,
   "metadata": {},
   "outputs": [],
   "source": [
    "airbnb.amenities = airbnb.amenities.str.slice(1,-1).str.replace('\"', '').str.split(',')"
   ]
  },
  {
   "cell_type": "code",
   "execution_count": 5,
   "metadata": {},
   "outputs": [
    {
     "name": "stderr",
     "output_type": "stream",
     "text": [
      "/var/folders/gf/251f82hj37z24mwyzsz3m4500000gn/T/ipykernel_3369/24953350.py:1: UserWarning: Could not infer format, so each element will be parsed individually, falling back to `dateutil`. To ensure parsing is consistent and as-expected, please specify a format.\n",
      "  airbnb.first_review = pd.to_datetime(airbnb.first_review.str.replace('/','-'))\n",
      "/var/folders/gf/251f82hj37z24mwyzsz3m4500000gn/T/ipykernel_3369/24953350.py:2: UserWarning: Could not infer format, so each element will be parsed individually, falling back to `dateutil`. To ensure parsing is consistent and as-expected, please specify a format.\n",
      "  airbnb.last_review = pd.to_datetime(airbnb.last_review.str.replace('/','-'))\n"
     ]
    }
   ],
   "source": [
    "airbnb.first_review = pd.to_datetime(airbnb.first_review.str.replace('/','-'))\n",
    "airbnb.last_review = pd.to_datetime(airbnb.last_review.str.replace('/','-'))"
   ]
  },
  {
   "cell_type": "code",
   "execution_count": 6,
   "metadata": {},
   "outputs": [],
   "source": [
    "airbnb.nightly_price = (airbnb.nightly_price.str.slice(1)\n",
    "                    .str.strip().str.replace(',', ''))\n",
    "airbnb.nightly_price = airbnb.nightly_price.replace('', np.NaN).astype(float)\n",
    "airbnb.price_per_stay = (airbnb.price_per_stay.str.slice(1)\n",
    "                    .str.strip().str.replace(',', ''))\n",
    "airbnb.price_per_stay = airbnb.price_per_stay.replace('', np.NaN).astype(float)"
   ]
  },
  {
   "cell_type": "code",
   "execution_count": 7,
   "metadata": {},
   "outputs": [],
   "source": [
    "# number of days of reviews since first review\n",
    "airbnb['days_of_reviews'] = (airbnb.last_review - airbnb.first_review).dt.days\n",
    "# number of amenities\n",
    "airbnb['num_amenities'] = airbnb.amenities.str.len()"
   ]
  },
  {
   "cell_type": "code",
   "execution_count": 8,
   "metadata": {},
   "outputs": [
    {
     "data": {
      "text/html": [
       "<div>\n",
       "<style scoped>\n",
       "    .dataframe tbody tr th:only-of-type {\n",
       "        vertical-align: middle;\n",
       "    }\n",
       "\n",
       "    .dataframe tbody tr th {\n",
       "        vertical-align: top;\n",
       "    }\n",
       "\n",
       "    .dataframe thead th {\n",
       "        text-align: right;\n",
       "    }\n",
       "</style>\n",
       "<table border=\"1\" class=\"dataframe\">\n",
       "  <thead>\n",
       "    <tr style=\"text-align: right;\">\n",
       "      <th></th>\n",
       "      <th>amenities</th>\n",
       "      <th>first_review</th>\n",
       "      <th>host_neighbourhood</th>\n",
       "      <th>last_review</th>\n",
       "      <th>neighbourhood_cleansed</th>\n",
       "      <th>nightly_price</th>\n",
       "      <th>price_per_stay</th>\n",
       "      <th>property_type</th>\n",
       "      <th>review_scores_rating</th>\n",
       "      <th>room_type</th>\n",
       "      <th>number_of_reviews</th>\n",
       "      <th>days_of_reviews</th>\n",
       "      <th>num_amenities</th>\n",
       "    </tr>\n",
       "  </thead>\n",
       "  <tbody>\n",
       "    <tr>\n",
       "      <th>1</th>\n",
       "      <td>[TV, Wifi, Air conditioning, Kitchen, Free par...</td>\n",
       "      <td>2017-04-22</td>\n",
       "      <td>La Jolla</td>\n",
       "      <td>2017-08-31</td>\n",
       "      <td>La Jolla</td>\n",
       "      <td>1400.0</td>\n",
       "      <td>1400.0</td>\n",
       "      <td>Apartment</td>\n",
       "      <td>100.0</td>\n",
       "      <td>Entire home/apt</td>\n",
       "      <td>2.0</td>\n",
       "      <td>131.0</td>\n",
       "      <td>21.0</td>\n",
       "    </tr>\n",
       "    <tr>\n",
       "      <th>4</th>\n",
       "      <td>[TV, Wifi, Kitchen, Free parking on premises, ...</td>\n",
       "      <td>2015-02-22</td>\n",
       "      <td>La Jolla</td>\n",
       "      <td>2018-09-23</td>\n",
       "      <td>La Jolla</td>\n",
       "      <td>110.0</td>\n",
       "      <td>110.0</td>\n",
       "      <td>Condominium</td>\n",
       "      <td>90.0</td>\n",
       "      <td>Private room</td>\n",
       "      <td>2.0</td>\n",
       "      <td>1309.0</td>\n",
       "      <td>11.0</td>\n",
       "    </tr>\n",
       "    <tr>\n",
       "      <th>10</th>\n",
       "      <td>[TV, Cable TV, Internet, Wifi, Air conditionin...</td>\n",
       "      <td>2016-10-10</td>\n",
       "      <td>Black Mountain Ranch</td>\n",
       "      <td>2017-05-27</td>\n",
       "      <td>Rancho Penasquitos</td>\n",
       "      <td>75.0</td>\n",
       "      <td>75.0</td>\n",
       "      <td>Bungalow</td>\n",
       "      <td>93.0</td>\n",
       "      <td>Entire home/apt</td>\n",
       "      <td>3.0</td>\n",
       "      <td>229.0</td>\n",
       "      <td>34.0</td>\n",
       "    </tr>\n",
       "    <tr>\n",
       "      <th>12</th>\n",
       "      <td>[TV, Internet, Wifi, Kitchen, Free parking on ...</td>\n",
       "      <td>2015-11-19</td>\n",
       "      <td>Pacific Beach</td>\n",
       "      <td>2018-07-02</td>\n",
       "      <td>Mission Bay</td>\n",
       "      <td>75.0</td>\n",
       "      <td>4500.0</td>\n",
       "      <td>House</td>\n",
       "      <td>100.0</td>\n",
       "      <td>Private room</td>\n",
       "      <td>27.0</td>\n",
       "      <td>956.0</td>\n",
       "      <td>37.0</td>\n",
       "    </tr>\n",
       "    <tr>\n",
       "      <th>13</th>\n",
       "      <td>[TV, Wifi, Pool, Kitchen, Free parking on prem...</td>\n",
       "      <td>2016-02-21</td>\n",
       "      <td>Pacific Beach</td>\n",
       "      <td>2019-05-12</td>\n",
       "      <td>Pacific Beach</td>\n",
       "      <td>65.0</td>\n",
       "      <td>3900.0</td>\n",
       "      <td>Condominium</td>\n",
       "      <td>97.0</td>\n",
       "      <td>Entire home/apt</td>\n",
       "      <td>12.0</td>\n",
       "      <td>1176.0</td>\n",
       "      <td>32.0</td>\n",
       "    </tr>\n",
       "  </tbody>\n",
       "</table>\n",
       "</div>"
      ],
      "text/plain": [
       "                                            amenities first_review  \\\n",
       "1   [TV, Wifi, Air conditioning, Kitchen, Free par...   2017-04-22   \n",
       "4   [TV, Wifi, Kitchen, Free parking on premises, ...   2015-02-22   \n",
       "10  [TV, Cable TV, Internet, Wifi, Air conditionin...   2016-10-10   \n",
       "12  [TV, Internet, Wifi, Kitchen, Free parking on ...   2015-11-19   \n",
       "13  [TV, Wifi, Pool, Kitchen, Free parking on prem...   2016-02-21   \n",
       "\n",
       "      host_neighbourhood last_review neighbourhood_cleansed  nightly_price  \\\n",
       "1               La Jolla  2017-08-31               La Jolla         1400.0   \n",
       "4               La Jolla  2018-09-23               La Jolla          110.0   \n",
       "10  Black Mountain Ranch  2017-05-27     Rancho Penasquitos           75.0   \n",
       "12         Pacific Beach  2018-07-02            Mission Bay           75.0   \n",
       "13         Pacific Beach  2019-05-12          Pacific Beach           65.0   \n",
       "\n",
       "    price_per_stay property_type  review_scores_rating        room_type  \\\n",
       "1           1400.0     Apartment                 100.0  Entire home/apt   \n",
       "4            110.0   Condominium                  90.0     Private room   \n",
       "10            75.0      Bungalow                  93.0  Entire home/apt   \n",
       "12          4500.0         House                 100.0     Private room   \n",
       "13          3900.0   Condominium                  97.0  Entire home/apt   \n",
       "\n",
       "    number_of_reviews  days_of_reviews  num_amenities  \n",
       "1                 2.0            131.0           21.0  \n",
       "4                 2.0           1309.0           11.0  \n",
       "10                3.0            229.0           34.0  \n",
       "12               27.0            956.0           37.0  \n",
       "13               12.0           1176.0           32.0  "
      ]
     },
     "execution_count": 8,
     "metadata": {},
     "output_type": "execute_result"
    }
   ],
   "source": [
    "airbnb = airbnb.dropna()\n",
    "airbnb.head()"
   ]
  },
  {
   "cell_type": "markdown",
   "metadata": {},
   "source": [
    "# T-tests, Linear Regression"
   ]
  },
  {
   "cell_type": "code",
   "execution_count": null,
   "metadata": {},
   "outputs": [],
   "source": []
  }
 ],
 "metadata": {
  "kernelspec": {
   "display_name": "base",
   "language": "python",
   "name": "python3"
  },
  "language_info": {
   "codemirror_mode": {
    "name": "ipython",
    "version": 3
   },
   "file_extension": ".py",
   "mimetype": "text/x-python",
   "name": "python",
   "nbconvert_exporter": "python",
   "pygments_lexer": "ipython3",
   "version": "3.11.5"
  }
 },
 "nbformat": 4,
 "nbformat_minor": 2
}
