{
 "cells": [
  {
   "cell_type": "code",
   "execution_count": 1,
   "metadata": {},
   "outputs": [],
   "source": [
    "import numpy as np\n",
    "import pandas as pd"
   ]
  },
  {
   "cell_type": "markdown",
   "metadata": {},
   "source": [
    "# Cleaned Data"
   ]
  },
  {
   "cell_type": "code",
   "execution_count": 2,
   "metadata": {},
   "outputs": [],
   "source": [
    "airbnb = pd.read_csv('data/airbnb.csv', low_memory=False)"
   ]
  },
  {
   "cell_type": "code",
   "execution_count": 3,
   "metadata": {},
   "outputs": [],
   "source": [
    "relevantCols = ['amenities', 'first_review', 'host_neighbourhood', \n",
    "            'last_review', 'neighbourhood_cleansed', 'nightly_price', \n",
    "            'price_per_stay', 'property_type', 'review_scores_rating', \n",
    "            'room_type', 'number_of_reviews']\n",
    "\n",
    "airbnb = airbnb[relevantCols]"
   ]
  },
  {
   "cell_type": "code",
   "execution_count": 4,
   "metadata": {},
   "outputs": [],
   "source": [
    "airbnb.amenities = airbnb.amenities.str.slice(1,-1).str.replace('\"', '').str.split(',')"
   ]
  },
  {
   "cell_type": "code",
   "execution_count": 5,
   "metadata": {},
   "outputs": [
    {
     "name": "stderr",
     "output_type": "stream",
     "text": [
      "/var/folders/gf/251f82hj37z24mwyzsz3m4500000gn/T/ipykernel_2821/24953350.py:1: UserWarning: Could not infer format, so each element will be parsed individually, falling back to `dateutil`. To ensure parsing is consistent and as-expected, please specify a format.\n",
      "  airbnb.first_review = pd.to_datetime(airbnb.first_review.str.replace('/','-'))\n",
      "/var/folders/gf/251f82hj37z24mwyzsz3m4500000gn/T/ipykernel_2821/24953350.py:2: UserWarning: Could not infer format, so each element will be parsed individually, falling back to `dateutil`. To ensure parsing is consistent and as-expected, please specify a format.\n",
      "  airbnb.last_review = pd.to_datetime(airbnb.last_review.str.replace('/','-'))\n"
     ]
    }
   ],
   "source": [
    "airbnb.first_review = pd.to_datetime(airbnb.first_review.str.replace('/','-'))\n",
    "airbnb.last_review = pd.to_datetime(airbnb.last_review.str.replace('/','-'))"
   ]
  },
  {
   "cell_type": "code",
   "execution_count": 6,
   "metadata": {},
   "outputs": [],
   "source": [
    "airbnb.nightly_price = (airbnb.nightly_price.str.slice(1)\n",
    "                    .str.strip().str.replace(',', ''))\n",
    "airbnb.nightly_price = airbnb.nightly_price.replace('', np.NaN).astype(float)\n",
    "airbnb.price_per_stay = (airbnb.price_per_stay.str.slice(1)\n",
    "                    .str.strip().str.replace(',', ''))\n",
    "airbnb.price_per_stay = airbnb.price_per_stay.replace('', np.NaN).astype(float)"
   ]
  },
  {
   "cell_type": "code",
   "execution_count": 7,
   "metadata": {},
   "outputs": [],
   "source": [
    "# number of days of reviews since first review\n",
    "airbnb['days_of_reviews'] = (airbnb.last_review - airbnb.first_review).dt.days\n",
    "# number of amenities\n",
    "airbnb['num_amenities'] = airbnb.amenities.str.len()"
   ]
  },
  {
   "cell_type": "code",
   "execution_count": 8,
   "metadata": {},
   "outputs": [
    {
     "data": {
      "text/html": [
       "<div>\n",
       "<style scoped>\n",
       "    .dataframe tbody tr th:only-of-type {\n",
       "        vertical-align: middle;\n",
       "    }\n",
       "\n",
       "    .dataframe tbody tr th {\n",
       "        vertical-align: top;\n",
       "    }\n",
       "\n",
       "    .dataframe thead th {\n",
       "        text-align: right;\n",
       "    }\n",
       "</style>\n",
       "<table border=\"1\" class=\"dataframe\">\n",
       "  <thead>\n",
       "    <tr style=\"text-align: right;\">\n",
       "      <th></th>\n",
       "      <th>amenities</th>\n",
       "      <th>first_review</th>\n",
       "      <th>host_neighbourhood</th>\n",
       "      <th>last_review</th>\n",
       "      <th>neighbourhood_cleansed</th>\n",
       "      <th>nightly_price</th>\n",
       "      <th>price_per_stay</th>\n",
       "      <th>property_type</th>\n",
       "      <th>review_scores_rating</th>\n",
       "      <th>room_type</th>\n",
       "      <th>number_of_reviews</th>\n",
       "      <th>days_of_reviews</th>\n",
       "      <th>num_amenities</th>\n",
       "    </tr>\n",
       "  </thead>\n",
       "  <tbody>\n",
       "    <tr>\n",
       "      <th>1</th>\n",
       "      <td>[TV, Wifi, Air conditioning, Kitchen, Free par...</td>\n",
       "      <td>2017-04-22</td>\n",
       "      <td>La Jolla</td>\n",
       "      <td>2017-08-31</td>\n",
       "      <td>La Jolla</td>\n",
       "      <td>1400.0</td>\n",
       "      <td>1400.0</td>\n",
       "      <td>Apartment</td>\n",
       "      <td>100.0</td>\n",
       "      <td>Entire home/apt</td>\n",
       "      <td>2.0</td>\n",
       "      <td>131.0</td>\n",
       "      <td>21.0</td>\n",
       "    </tr>\n",
       "    <tr>\n",
       "      <th>4</th>\n",
       "      <td>[TV, Wifi, Kitchen, Free parking on premises, ...</td>\n",
       "      <td>2015-02-22</td>\n",
       "      <td>La Jolla</td>\n",
       "      <td>2018-09-23</td>\n",
       "      <td>La Jolla</td>\n",
       "      <td>110.0</td>\n",
       "      <td>110.0</td>\n",
       "      <td>Condominium</td>\n",
       "      <td>90.0</td>\n",
       "      <td>Private room</td>\n",
       "      <td>2.0</td>\n",
       "      <td>1309.0</td>\n",
       "      <td>11.0</td>\n",
       "    </tr>\n",
       "    <tr>\n",
       "      <th>10</th>\n",
       "      <td>[TV, Cable TV, Internet, Wifi, Air conditionin...</td>\n",
       "      <td>2016-10-10</td>\n",
       "      <td>Black Mountain Ranch</td>\n",
       "      <td>2017-05-27</td>\n",
       "      <td>Rancho Penasquitos</td>\n",
       "      <td>75.0</td>\n",
       "      <td>75.0</td>\n",
       "      <td>Bungalow</td>\n",
       "      <td>93.0</td>\n",
       "      <td>Entire home/apt</td>\n",
       "      <td>3.0</td>\n",
       "      <td>229.0</td>\n",
       "      <td>34.0</td>\n",
       "    </tr>\n",
       "    <tr>\n",
       "      <th>12</th>\n",
       "      <td>[TV, Internet, Wifi, Kitchen, Free parking on ...</td>\n",
       "      <td>2015-11-19</td>\n",
       "      <td>Pacific Beach</td>\n",
       "      <td>2018-07-02</td>\n",
       "      <td>Mission Bay</td>\n",
       "      <td>75.0</td>\n",
       "      <td>4500.0</td>\n",
       "      <td>House</td>\n",
       "      <td>100.0</td>\n",
       "      <td>Private room</td>\n",
       "      <td>27.0</td>\n",
       "      <td>956.0</td>\n",
       "      <td>37.0</td>\n",
       "    </tr>\n",
       "    <tr>\n",
       "      <th>13</th>\n",
       "      <td>[TV, Wifi, Pool, Kitchen, Free parking on prem...</td>\n",
       "      <td>2016-02-21</td>\n",
       "      <td>Pacific Beach</td>\n",
       "      <td>2019-05-12</td>\n",
       "      <td>Pacific Beach</td>\n",
       "      <td>65.0</td>\n",
       "      <td>3900.0</td>\n",
       "      <td>Condominium</td>\n",
       "      <td>97.0</td>\n",
       "      <td>Entire home/apt</td>\n",
       "      <td>12.0</td>\n",
       "      <td>1176.0</td>\n",
       "      <td>32.0</td>\n",
       "    </tr>\n",
       "  </tbody>\n",
       "</table>\n",
       "</div>"
      ],
      "text/plain": [
       "                                            amenities first_review  \\\n",
       "1   [TV, Wifi, Air conditioning, Kitchen, Free par...   2017-04-22   \n",
       "4   [TV, Wifi, Kitchen, Free parking on premises, ...   2015-02-22   \n",
       "10  [TV, Cable TV, Internet, Wifi, Air conditionin...   2016-10-10   \n",
       "12  [TV, Internet, Wifi, Kitchen, Free parking on ...   2015-11-19   \n",
       "13  [TV, Wifi, Pool, Kitchen, Free parking on prem...   2016-02-21   \n",
       "\n",
       "      host_neighbourhood last_review neighbourhood_cleansed  nightly_price  \\\n",
       "1               La Jolla  2017-08-31               La Jolla         1400.0   \n",
       "4               La Jolla  2018-09-23               La Jolla          110.0   \n",
       "10  Black Mountain Ranch  2017-05-27     Rancho Penasquitos           75.0   \n",
       "12         Pacific Beach  2018-07-02            Mission Bay           75.0   \n",
       "13         Pacific Beach  2019-05-12          Pacific Beach           65.0   \n",
       "\n",
       "    price_per_stay property_type  review_scores_rating        room_type  \\\n",
       "1           1400.0     Apartment                 100.0  Entire home/apt   \n",
       "4            110.0   Condominium                  90.0     Private room   \n",
       "10            75.0      Bungalow                  93.0  Entire home/apt   \n",
       "12          4500.0         House                 100.0     Private room   \n",
       "13          3900.0   Condominium                  97.0  Entire home/apt   \n",
       "\n",
       "    number_of_reviews  days_of_reviews  num_amenities  \n",
       "1                 2.0            131.0           21.0  \n",
       "4                 2.0           1309.0           11.0  \n",
       "10                3.0            229.0           34.0  \n",
       "12               27.0            956.0           37.0  \n",
       "13               12.0           1176.0           32.0  "
      ]
     },
     "execution_count": 8,
     "metadata": {},
     "output_type": "execute_result"
    }
   ],
   "source": [
    "airbnb = airbnb.dropna()\n",
    "airbnb.head()"
   ]
  },
  {
   "cell_type": "markdown",
   "metadata": {},
   "source": [
    "# T-tests, Linear Regression"
   ]
  },
  {
   "cell_type": "code",
   "execution_count": 9,
   "metadata": {},
   "outputs": [],
   "source": [
    "def decision(pvalue, alpha):\n",
    "    if pvalue < alpha:\n",
    "        print(f'reject H0: pvalue={pvalue} ≥ {alpha}')  \n",
    "    else: \n",
    "        print(f'fail to reject H0: pvalue={pvalue} < {alpha}')\n",
    "\n",
    "alpha = 0.01"
   ]
  },
  {
   "cell_type": "code",
   "execution_count": 10,
   "metadata": {},
   "outputs": [],
   "source": [
    "import scipy.stats as stats\n",
    "import matplotlib.pyplot as plt\n",
    "from scipy.stats import ttest_ind_from_stats"
   ]
  },
  {
   "cell_type": "markdown",
   "metadata": {},
   "source": [
    "Null: There is no difference in review ratings for housing and apartment Airbnbs\n",
    "\n",
    "Alternative: There **is** a difference in review ratings for housing and apartment Airbnbs"
   ]
  },
  {
   "cell_type": "code",
   "execution_count": 11,
   "metadata": {},
   "outputs": [
    {
     "name": "stdout",
     "output_type": "stream",
     "text": [
      "reject H0: pvalue=2.277684792467291e-14 ≥ 0.01\n"
     ]
    }
   ],
   "source": [
    "house = airbnb[airbnb['property_type'] == 'House']['review_scores_rating']\n",
    "house_mean = house.mean()\n",
    "house_std = house.std(ddof=1)\n",
    "house_no = house.size\n",
    "\n",
    "apt = airbnb[airbnb['property_type'] == 'Apartment']['review_scores_rating']\n",
    "apt_mean = apt.mean()\n",
    "apt_std = apt.std(ddof=1)\n",
    "apt_no = apt.size\n",
    "\n",
    "tstat, pval = ttest_ind_from_stats(house_mean, house_std, house_no, \n",
    "                                   apt_mean, apt_std, apt_no, alternative='two-sided')\n",
    "\n",
    "decision(pval, alpha)"
   ]
  },
  {
   "cell_type": "markdown",
   "metadata": {},
   "source": [
    "Now let's see if there is a correlation between number of reviews per day and review rating.\n",
    "\n",
    "Null: the \\# of reviews per day and the review rating are independent\n",
    "\n",
    "Alternative: the \\# of reviews per day and the review rating are **NOT** independent"
   ]
  },
  {
   "cell_type": "code",
   "execution_count": 12,
   "metadata": {},
   "outputs": [
    {
     "name": "stdout",
     "output_type": "stream",
     "text": [
      "T_stat = 247984.1477994755, pvalue = 1.0\n",
      "fail to reject H0: pvalue=1.0 < 0.01\n"
     ]
    }
   ],
   "source": [
    "T_stat, pvalue, _, _ = stats.chi2_contingency(\n",
    "    pd.crosstab(airbnb['number_of_reviews'] / airbnb['days_of_reviews'], \n",
    "                airbnb['review_scores_rating']))\n",
    "\n",
    "print(f'T_stat = {T_stat}, pvalue = {pvalue}')\n",
    "decision(pvalue, alpha)"
   ]
  },
  {
   "cell_type": "markdown",
   "metadata": {},
   "source": [
    "Let's also see if there is a correlation between the number of amenities and the review rating.\n",
    "\n",
    "Null: the # of amenities and the review rating are independent\n",
    "\n",
    "Alternative: the # of amenities are the review rating are **NOT** Independent"
   ]
  },
  {
   "cell_type": "code",
   "execution_count": 40,
   "metadata": {},
   "outputs": [
    {
     "name": "stdout",
     "output_type": "stream",
     "text": [
      "T_stat = 3480.7272609591078, pvalue = 0.019734051576013403\n",
      "fail to reject H0: pvalue=0.019734051576013403 ≥ 0.01\n"
     ]
    }
   ],
   "source": [
    "T_stat, pvalue, _, _ = stats.chi2_contingency(\n",
    "    pd.crosstab(airbnb['num_amenities'], \n",
    "                airbnb['review_scores_rating']))\n",
    "\n",
    "print(f'T_stat = {T_stat}, pvalue = {pvalue}')\n",
    "decision(pvalue, alpha)"
   ]
  },
  {
   "cell_type": "markdown",
   "metadata": {},
   "source": [
    "Seems like we fail to reject the null, which means the two distribution are independent"
   ]
  },
  {
   "cell_type": "markdown",
   "metadata": {},
   "source": [
    "Now let's make a linear regression model:"
   ]
  },
  {
   "cell_type": "code",
   "execution_count": 36,
   "metadata": {},
   "outputs": [
    {
     "name": "stdout",
     "output_type": "stream",
     "text": [
      "Intercept                                           90.739091\n",
      "first_review[T.Timestamp('2010-07-20 00:00:00')]     0.000000\n",
      "first_review[T.Timestamp('2010-09-09 00:00:00')]     0.000000\n",
      "first_review[T.Timestamp('2010-12-05 00:00:00')]     0.000000\n",
      "first_review[T.Timestamp('2011-01-04 00:00:00')]     0.000000\n",
      "                                                      ...    \n",
      "nightly_price                                       -0.000150\n",
      "price_per_stay                                       0.000368\n",
      "number_of_reviews                                    0.006782\n",
      "days_of_reviews                                      0.000000\n",
      "num_amenities                                        0.126631\n",
      "Length: 3200, dtype: float64\n"
     ]
    }
   ],
   "source": [
    "import statsmodels.formula.api as smf\n",
    "full_model_formula = f' review_scores_rating ~ {\"+\".join(airbnb.columns.drop([\"review_scores_rating\", \"amenities\"]))}'\n",
    "\n",
    "elastic_fit = smf.ols(full_model_formula, data=airbnb).\\\n",
    "                fit_regularized(method='elastic_net', alpha=0.3, L1_wt=1.0)\n",
    "\n",
    "print(elastic_fit.params)"
   ]
  },
  {
   "cell_type": "code",
   "execution_count": 39,
   "metadata": {},
   "outputs": [
    {
     "name": "stdout",
     "output_type": "stream",
     "text": [
      "Index(['nightly_price', 'price_per_stay', 'number_of_reviews',\n",
      "       'num_amenities'],\n",
      "      dtype='object')\n",
      "                             OLS Regression Results                             \n",
      "================================================================================\n",
      "Dep. Variable:     review_scores_rating   R-squared:                       0.019\n",
      "Model:                              OLS   Adj. R-squared:                  0.019\n",
      "Method:                   Least Squares   F-statistic:                     45.59\n",
      "Date:                  Tue, 04 Jun 2024   Prob (F-statistic):           5.43e-38\n",
      "Time:                          17:57:07   Log-Likelihood:                -31427.\n",
      "No. Observations:                  9372   AIC:                         6.286e+04\n",
      "Df Residuals:                      9367   BIC:                         6.290e+04\n",
      "Df Model:                             4                                         \n",
      "Covariance Type:              nonrobust                                         \n",
      "=====================================================================================\n",
      "                        coef    std err          t      P>|t|      [0.025      0.975]\n",
      "-------------------------------------------------------------------------------------\n",
      "Intercept            93.0411      0.201    463.452      0.000      92.648      93.435\n",
      "nightly_price        -0.0008      0.000     -2.840      0.005      -0.001      -0.000\n",
      "price_per_stay        0.0003   9.08e-05      2.776      0.006    7.41e-05       0.000\n",
      "number_of_reviews     0.0050      0.001      4.507      0.000       0.003       0.007\n",
      "num_amenities         0.0687      0.006     11.134      0.000       0.057       0.081\n",
      "==============================================================================\n",
      "Omnibus:                     8327.159   Durbin-Watson:                   1.892\n",
      "Prob(Omnibus):                  0.000   Jarque-Bera (JB):           376043.258\n",
      "Skew:                          -4.149   Prob(JB):                         0.00\n",
      "Kurtosis:                      32.902   Cond. No.                     2.70e+03\n",
      "==============================================================================\n",
      "\n",
      "Notes:\n",
      "[1] Standard Errors assume that the covariance matrix of the errors is correctly specified.\n",
      "[2] The condition number is large, 2.7e+03. This might indicate that there are\n",
      "strong multicollinearity or other numerical problems.\n"
     ]
    }
   ],
   "source": [
    "final_params = elastic_fit.params[elastic_fit.params != 0].index[1:]\n",
    "print(final_params)\n",
    "\n",
    "print(smf.ols( f'review_scores_rating ~ {\"+\".join(final_params)}', airbnb).fit().summary())"
   ]
  },
  {
   "cell_type": "markdown",
   "metadata": {},
   "source": [
    "Is there a difference in distribution of airbnbs across neighborhoods?"
   ]
  },
  {
   "cell_type": "code",
   "execution_count": null,
   "metadata": {},
   "outputs": [],
   "source": []
  }
 ],
 "metadata": {
  "kernelspec": {
   "display_name": "base",
   "language": "python",
   "name": "python3"
  },
  "language_info": {
   "codemirror_mode": {
    "name": "ipython",
    "version": 3
   },
   "file_extension": ".py",
   "mimetype": "text/x-python",
   "name": "python",
   "nbconvert_exporter": "python",
   "pygments_lexer": "ipython3",
   "version": "3.11.5"
  }
 },
 "nbformat": 4,
 "nbformat_minor": 2
}
